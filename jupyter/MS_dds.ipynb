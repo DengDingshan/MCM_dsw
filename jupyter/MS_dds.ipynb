{
 "cells": [
  {
   "cell_type": "markdown",
   "metadata": {},
   "source": [
    "\n",
    "# 建立模型#\n",
    "\n",
    "3个商人3个随从\n",
    "\n",
    "记第 k 次过河前此岸的商人数为 $x_k$ , 随从数为 $y_k$ , k = 1, 2, 3…, xk ,yk = 0, 1, 2, 3\n",
    "定义状态： 将二维向量 sk = ( xk , yk ) 定义为状态\n",
    "将安全渡河状态下的状态集合定义为允许状态集合， 记为\n",
    "\n",
    "S = {(x,y) | x=0,y=0,1,2,3; x=y=1; x=y=2; x=3,y=0,1,2,3} \n",
    "\n",
    "记第 k 次渡河船上的商人数为 uk ， 随从数为 vk\n",
    "定义决策： 将二维向量 dk = (uk , vk) 定义为决策\n",
    "允许决策集合 记作\n",
    "\n",
    "D = {(u,v) | 1 ≤ u+v ≤ 2, u,v = 0,1,2} \n",
    "\n",
    "因为小船容量为2，所以船上人员不能超过2，而且至少要有一个人划船，由此得到上式。\n",
    "由我们定义的状态 sk 和决策 dk ，我们可以发现它们之间是存在联系的：\n",
    "k 为奇数是表示船由此岸划向彼岸，k 为偶数时表示船由彼岸划回此岸\n",
    "状态 sk 是随着决策 dk 变化的，规律为：\n",
    "\n",
    "sk+1 = sk + (-1)kdk "
   ]
  },
  {
   "cell_type": "markdown",
   "metadata": {},
   "source": [
    "# random method to solve this problem"
   ]
  },
  {
   "cell_type": "code",
   "execution_count": 88,
   "metadata": {},
   "outputs": [],
   "source": [
    "# (x,y) == (merchants, servants)\n",
    "import random\n",
    "import time"
   ]
  },
  {
   "cell_type": "code",
   "execution_count": 79,
   "metadata": {
    "collapsed": true
   },
   "outputs": [],
   "source": [
    "def allowset(self):\n",
    "    allowset = [];\n",
    "    for i in range(self[0] + 1):\n",
    "        for j in range(self[1] + 1):\n",
    "            if i == 0:\n",
    "                allowset.append([i,j])\n",
    "            elif i == self[0]:\n",
    "                allowset.append([i,j])\n",
    "            elif (i >= j and ((self[0] - i) >= (self[1] - j))):\n",
    "                allowset.append([i,j])\n",
    "    return allowset"
   ]
  },
  {
   "cell_type": "code",
   "execution_count": 80,
   "metadata": {
    "collapsed": true
   },
   "outputs": [],
   "source": [
    "#allow action\n",
    "def allowaction(capacity):\n",
    "    allowactionset = []\n",
    "    for i in range(capacity + 1):\n",
    "        for j in range(capacity + 1):\n",
    "            if (i + j) <= capacity and (i + j) != 0:\n",
    "                allowactionset.append([i,j])\n",
    "    return allowactionset"
   ]
  },
  {
   "cell_type": "code",
   "execution_count": 81,
   "metadata": {
    "collapsed": true
   },
   "outputs": [],
   "source": [
    "merchants = 3; servants = 3; capacity = 2;\n",
    "totleman = (merchants,servants)\n",
    "origin_thisside = [merchants, servants]\n",
    "otherside = [0,0]"
   ]
  },
  {
   "cell_type": "code",
   "execution_count": 82,
   "metadata": {},
   "outputs": [
    {
     "name": "stdout",
     "output_type": "stream",
     "text": [
      "<function allowset at 0x000001ED3BB8CA60>\n",
      "[[0, 1], [0, 2], [1, 0], [1, 1], [2, 0]]\n"
     ]
    }
   ],
   "source": [
    "allowstate = allowset(origin_thisside)\n",
    "action = allowaction(capacity)\n",
    "print(allowset)\n",
    "print(action)"
   ]
  },
  {
   "cell_type": "code",
   "execution_count": 83,
   "metadata": {
    "scrolled": true
   },
   "outputs": [],
   "source": [
    "# solve this problem; + == fromthis ; - == fromother\n",
    "# output = [motivation,count]\n",
    "def solve(merchants,servants,capacity):\n",
    "    motivation = []\n",
    "    count = 1\n",
    "    thisside = [merchants, servants]\n",
    "    move_fromthis = []; move_fromother = [];\n",
    "    while thisside != [0,0]:\n",
    "        move = action[random.randint(0,len(action) - 1)]\n",
    "        new_thisside = [thisside[0] + (-1)**count*move[0], \\\n",
    "                       thisside[1] + (-1)**count*move[1]]\n",
    "        if (new_thisside in allowstate):\n",
    "            thisside = new_thisside\n",
    "            if (count%2 == 1):\n",
    "                motivation.append(move)\n",
    "            if (count%2 == 0):\n",
    "                motivation.append([-move[0],-move[1]])\n",
    "            count += 1\n",
    "    output = [motivation,count - 1]\n",
    "    return output"
   ]
  },
  {
   "cell_type": "code",
   "execution_count": 93,
   "metadata": {},
   "outputs": [
    {
     "name": "stdout",
     "output_type": "stream",
     "text": [
      "23.139082193374634\n",
      "[0]个商人，[2]个随从 划过去~\n",
      "[0]个商人，[1]个随从 划回来~~~\n",
      "[0]个商人，[2]个随从 划过去~\n",
      "[0]个商人，[1]个随从 划回来~~~\n",
      "[2]个商人，[0]个随从 划过去~\n",
      "[1]个商人，[1]个随从 划回来~~~\n",
      "[2]个商人，[0]个随从 划过去~\n",
      "[0]个商人，[1]个随从 划回来~~~\n",
      "[0]个商人，[2]个随从 划过去~\n",
      "[0]个商人，[1]个随从 划回来~~~\n",
      "[0]个商人，[2]个随从 划过去~\n"
     ]
    }
   ],
   "source": [
    "start_time = time.time()\n",
    "least_step = 50\n",
    "for i in range(10000):\n",
    "    solution = solve(merchants,servants,capacity)\n",
    "    if (solution[1] <= least_step):\n",
    "        least_step = solution[1];\n",
    "        best_solution = solution\n",
    "\n",
    "delta_time = time.time() - start_time\n",
    "print(delta_time)\n",
    "        \n",
    "motiv = best_solution[0]\n",
    "for count in range(len(motiv)):\n",
    "    if ((count+1)%2 == 1):\n",
    "        print('[%d]个商人，[%d]个随从 划过去~'%(motiv[count][0],motiv[count][1]))\n",
    "    if ((count+1)%2 == 0):\n",
    "        print('[%d]个商人，[%d]个随从 划回来~~~'%(-motiv[count][0],-motiv[count][1]))"
   ]
  },
  {
   "cell_type": "code",
   "execution_count": 77,
   "metadata": {},
   "outputs": [
    {
     "name": "stdout",
     "output_type": "stream",
     "text": [
      "0\n",
      "1\n"
     ]
    }
   ],
   "source": [
    "A = [1,2]\n",
    "B = [-A[0],-A[1]]\n",
    "for i in range(len(A)):\n",
    "    print(i)"
   ]
  },
  {
   "cell_type": "code",
   "execution_count": 90,
   "metadata": {},
   "outputs": [
    {
     "data": {
      "text/plain": [
       "1517035218.295386"
      ]
     },
     "execution_count": 90,
     "metadata": {},
     "output_type": "execute_result"
    }
   ],
   "source": [
    "time.time()"
   ]
  },
  {
   "cell_type": "code",
   "execution_count": null,
   "metadata": {
    "collapsed": true
   },
   "outputs": [],
   "source": []
  }
 ],
 "metadata": {
  "kernelspec": {
   "display_name": "Python 3",
   "language": "python",
   "name": "python3"
  },
  "language_info": {
   "codemirror_mode": {
    "name": "ipython",
    "version": 3
   },
   "file_extension": ".py",
   "mimetype": "text/x-python",
   "name": "python",
   "nbconvert_exporter": "python",
   "pygments_lexer": "ipython3",
   "version": "3.6.1"
  }
 },
 "nbformat": 4,
 "nbformat_minor": 2
}
