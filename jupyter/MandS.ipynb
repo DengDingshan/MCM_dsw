{
 "cells": [
  {
   "cell_type": "markdown",
   "metadata": {},
   "source": [
    "# 建立模型#\n",
    "\n",
    "3个商人3个随从\n",
    "\n",
    "记第 k 次过河前此岸的商人数为 $x_k$ , 随从数为 $y_k$ , k = 1, 2, 3…, xk ,yk = 0, 1, 2, 3\n",
    "定义状态： 将二维向量 sk = ( xk , yk ) 定义为状态\n",
    "将安全渡河状态下的状态集合定义为允许状态集合， 记为\n",
    "\n",
    "S = {(x,y) | x=0,y=0,1,2,3; x=y=1; x=y=2; x=3,y=0,1,2,3} \n",
    "\n",
    "记第 k 次渡河船上的商人数为 uk ， 随从数为 vk\n",
    "定义决策： 将二维向量 dk = (uk , vk) 定义为决策\n",
    "允许决策集合 记作\n",
    "\n",
    "D = {(u,v) | 1 ≤ u+v ≤ 2, u,v = 0,1,2} \n",
    "\n",
    "因为小船容量为2，所以船上人员不能超过2，而且至少要有一个人划船，由此得到上式。\n",
    "由我们定义的状态 sk 和决策 dk ，我们可以发现它们之间是存在联系的：\n",
    "k 为奇数是表示船由此岸划向彼岸，k 为偶数时表示船由彼岸划回此岸\n",
    "状态 sk 是随着决策 dk 变化的，规律为：\n",
    "\n",
    "sk+1 = sk + (-1)kdk "
   ]
  },
  {
   "cell_type": "code",
   "execution_count": 1,
   "metadata": {
    "collapsed": true
   },
   "outputs": [],
   "source": [
    "import random"
   ]
  },
  {
   "cell_type": "code",
   "execution_count": 4,
   "metadata": {
    "collapsed": true
   },
   "outputs": [],
   "source": [
    "class Boat(object):\n",
    "    def __init__(self, m, s, capacity):\n",
    "        self.m = m\n",
    "        self.s = s\n",
    "        self.capacity = capacity\n",
    "        \n",
    "        print(\"Initialize: [%d] merchants and [%d] servants\"%(m, s))\n",
    "    \n",
    "    #定义允许的状态\n",
    "    def allowset(self):\n",
    "        allowset = [];\n",
    "        for i in range(self.m + 1):\n",
    "            for j in range(self.s + 1):\n",
    "                if i == 0:\n",
    "                    allowset.append([i,j])\n",
    "                elif i == self.m:\n",
    "                    allowset.append([i,j])\n",
    "                elif (i >= j and ((self.m - i) >= (self.s - j))):\n",
    "                    allowset.append([i,j])\n",
    "        return allowset\n",
    "    \n",
    "    #allow action\n",
    "    def allowaction(self):\n",
    "        allowactionset = []\n",
    "        for i in range(self.capacity + 1):\n",
    "            for j in range(self.capacity + 1):\n",
    "                if (i + j) <= self.capacity and (i + j) != 0:\n",
    "                    allowactionset.append([i,j])\n",
    "        return allowactionset\n",
    "    \n",
    "    #pass the river\n",
    "    def solve(self,allowactionset,allowstate):\n",
    "        count = 1\n",
    "        current = (self.m,self.s)\n",
    "        while current != [0,0]:\n",
    "            move = allowactionset[random.randint(0,len(allowactionset) - 1)]\n",
    "            temp = [current[0] + ((-1)**count)*move[0], current[1] + ((-1)**count)*move[1]]\n",
    "            if (temp in allowstate):\n",
    "                current = [current[0] + ((-1)**count)*move[0], current[1] + ((-1)**count)*move[1]]\n",
    "                if(count%2 == 1):\n",
    "                    print(\"[%d]个商人，[%d] 个随从从此岸划到对岸\" %(move[0],move[1]))\n",
    "                if(count%2 == 0):\n",
    "                    print(\"[%d]个商人，[%d] 个随从从对岸划回此岸\" %(move[0],move[1]))\n",
    "                count = count + 1\n",
    "\n"
   ]
  },
  {
   "cell_type": "code",
   "execution_count": 5,
   "metadata": {
    "scrolled": false
   },
   "outputs": [
    {
     "name": "stdout",
     "output_type": "stream",
     "text": [
      "Initialize: [3] merchants and [3] servants\n",
      "[[0, 0], [0, 1], [0, 2], [0, 3], [1, 1], [2, 2], [3, 0], [3, 1], [3, 2], [3, 3]]\n",
      "[[0, 1], [0, 2], [1, 0], [1, 1], [2, 0]]\n",
      "[1]个商人，[1] 个随从从此岸划到对岸\n",
      "[2]个商人，[0] 个随从从此岸划到对岸\n",
      "[0]个商人，[1] 个随从从对岸划回此岸\n",
      "[0]个商人，[2] 个随从从此岸划到对岸\n",
      "[0]个商人，[2] 个随从从对岸划回此岸\n",
      "[0]个商人，[1] 个随从从此岸划到对岸\n",
      "[2]个商人，[0] 个随从从对岸划回此岸\n",
      "[1]个商人，[1] 个随从从对岸划回此岸\n",
      "[0]个商人，[1] 个随从从此岸划到对岸\n",
      "[0]个商人，[1] 个随从从对岸划回此岸\n",
      "[1]个商人，[1] 个随从从此岸划到对岸\n",
      "[1]个商人，[0] 个随从从对岸划回此岸\n",
      "[0]个商人，[1] 个随从从此岸划到对岸\n",
      "[0]个商人，[1] 个随从从对岸划回此岸\n",
      "[0]个商人，[2] 个随从从此岸划到对岸\n",
      "[0]个商人，[1] 个随从从对岸划回此岸\n",
      "[0]个商人，[1] 个随从从对岸划回此岸\n",
      "[0]个商人，[2] 个随从从此岸划到对岸\n",
      "[0]个商人，[1] 个随从从对岸划回此岸\n",
      "[0]个商人，[1] 个随从从此岸划到对岸\n",
      "[0]个商人，[1] 个随从从对岸划回此岸\n",
      "[2]个商人，[0] 个随从从此岸划到对岸\n",
      "[1]个商人，[1] 个随从从对岸划回此岸\n",
      "[2]个商人，[0] 个随从从此岸划到对岸\n",
      "[0]个商人，[1] 个随从从对岸划回此岸\n",
      "[0]个商人，[2] 个随从从此岸划到对岸\n",
      "[0]个商人，[1] 个随从从对岸划回此岸\n",
      "[0]个商人，[1] 个随从从此岸划到对岸\n",
      "[0]个商人，[2] 个随从从对岸划回此岸\n",
      "[0]个商人，[2] 个随从从此岸划到对岸\n",
      "[0]个商人，[1] 个随从从对岸划回此岸\n",
      "[0]个商人，[2] 个随从从此岸划到对岸\n"
     ]
    }
   ],
   "source": [
    "def main():\n",
    "    boat = Boat(3,3,2)\n",
    "    allowstate = boat.allowset()\n",
    "    print(allowstate)\n",
    "    actionset = boat.allowaction()\n",
    "    print(actionset)\n",
    "    \n",
    "    boat.solve(actionset,allowstate)\n",
    "    \n",
    "if __name__ == '__main__':\n",
    "    main()"
   ]
  },
  {
   "cell_type": "code",
   "execution_count": 13,
   "metadata": {},
   "outputs": [
    {
     "data": {
      "text/plain": [
       "1"
      ]
     },
     "execution_count": 13,
     "metadata": {},
     "output_type": "execute_result"
    }
   ],
   "source": [
    "random.randint(0,1)"
   ]
  },
  {
   "cell_type": "code",
   "execution_count": null,
   "metadata": {
    "collapsed": true
   },
   "outputs": [],
   "source": []
  }
 ],
 "metadata": {
  "kernelspec": {
   "display_name": "Python 3",
   "language": "python",
   "name": "python3"
  },
  "language_info": {
   "codemirror_mode": {
    "name": "ipython",
    "version": 3
   },
   "file_extension": ".py",
   "mimetype": "text/x-python",
   "name": "python",
   "nbconvert_exporter": "python",
   "pygments_lexer": "ipython3",
   "version": "3.6.1"
  }
 },
 "nbformat": 4,
 "nbformat_minor": 2
}
