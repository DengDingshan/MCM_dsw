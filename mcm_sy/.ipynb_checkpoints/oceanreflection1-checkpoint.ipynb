{
 "cells": [
  {
   "cell_type": "code",
   "execution_count": 1,
   "metadata": {
    "collapsed": true
   },
   "outputs": [],
   "source": [
    "# 镜面反射\n",
    "import numpy as mp\n"
   ]
  },
  {
   "cell_type": "code",
   "execution_count": 16,
   "metadata": {},
   "outputs": [],
   "source": [
    "#fresnel\n",
    "def fresnel(seta):   #seta是入射角，jdconst是介电常数，V是垂直极化菲涅尔常数，H是水平极化菲涅尔常数\n",
    "    jdconst = 80\n",
    "    V = (jdconst*np.sin(seta)-(jdconst-(np.cos(seta)**2))**(1/2))/\\\n",
    "    (jdconst*np.sin(seta)-(jdconst-(np.cos(seta)**2))**(1/2))\n",
    "    H = (np.sin(seta)-(jdconst-(np.cos(seta)**2))**(1/2))/\\\n",
    "    (np.sin(seta)-(jdconst-(np.cos(seta)**2))**(1/2))\n",
    "    \n",
    "    return V,H\n",
    "    "
   ]
  },
  {
   "cell_type": "code",
   "execution_count": 17,
   "metadata": {
    "collapsed": true
   },
   "outputs": [],
   "source": [
    "#镜面反射系数\n",
    "def mirror(seta,f,h):   #f是无线电频率，h是均方根波高\n",
    "    c=3*(10**8)\n",
    "    ps=2*((2*np.pi*h*np.sin(seta)*f)/c)**2\n",
    "    rou = np.exp(-ps)*scipy.special.j1(ps)\n",
    "    return rou\n",
    "    "
   ]
  },
  {
   "cell_type": "code",
   "execution_count": 18,
   "metadata": {
    "collapsed": true
   },
   "outputs": [],
   "source": [
    "#镜面反射能量\n",
    "def energy(V,rou,W):#W是发射能量\n",
    "    mirreflect=W*v*rou\n",
    "    return mirreflect\n"
   ]
  },
  {
   "cell_type": "code",
   "execution_count": null,
   "metadata": {
    "collapsed": true
   },
   "outputs": [],
   "source": []
  }
 ],
 "metadata": {
  "kernelspec": {
   "display_name": "Python 3",
   "language": "python",
   "name": "python3"
  },
  "language_info": {
   "codemirror_mode": {
    "name": "ipython",
    "version": 3
   },
   "file_extension": ".py",
   "mimetype": "text/x-python",
   "name": "python",
   "nbconvert_exporter": "python",
   "pygments_lexer": "ipython3",
   "version": "3.6.1"
  }
 },
 "nbformat": 4,
 "nbformat_minor": 2
}
